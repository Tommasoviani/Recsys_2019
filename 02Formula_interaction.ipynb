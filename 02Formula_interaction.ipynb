{
 "nbformat": 4,
 "nbformat_minor": 2,
 "metadata": {
  "language_info": {
   "name": "python",
   "codemirror_mode": {
    "name": "ipython",
    "version": 3
   },
   "version": "3.7.3-final"
  },
  "orig_nbformat": 2,
  "file_extension": ".py",
  "mimetype": "text/x-python",
  "name": "python",
  "npconvert_exporter": "python",
  "pygments_lexer": "ipython3",
  "version": 3,
  "kernelspec": {
   "name": "python37364bitbaseconda9004609c197446b5b22406ff27f8a43b",
   "display_name": "Python 3.7.3 64-bit ('base': conda)"
  }
 },
 "cells": [
  {
   "cell_type": "markdown",
   "execution_count": null,
   "metadata": {},
   "outputs": [],
   "source": [
    "# Formula algorithm 2 (with last interaction)"
   ]
  },
  {
   "cell_type": "code",
   "execution_count": 1,
   "metadata": {},
   "outputs": [],
   "source": [
    "import math\n",
    "import pandas as pd\n",
    "import numpy as np\n",
    "import csv\n",
    "import pandasql as ps"
   ]
  },
  {
   "cell_type": "code",
   "execution_count": 2,
   "metadata": {},
   "outputs": [],
   "source": [
    "train_data = pd.read_csv(\"~/Documents/Tesi/trivagoRecSysChallengeData2019_v2/train.csv\")"
   ]
  },
  {
   "cell_type": "code",
   "execution_count": 5,
   "metadata": {},
   "outputs": [],
   "source": [
    "train = train_data"
   ]
  },
  {
   "cell_type": "code",
   "execution_count": 6,
   "metadata": {},
   "outputs": [
    {
     "data": {
      "text/html": "<div>\n<style scoped>\n    .dataframe tbody tr th:only-of-type {\n        vertical-align: middle;\n    }\n\n    .dataframe tbody tr th {\n        vertical-align: top;\n    }\n\n    .dataframe thead th {\n        text-align: right;\n    }\n</style>\n<table border=\"1\" class=\"dataframe\">\n  <thead>\n    <tr style=\"text-align: right;\">\n      <th></th>\n      <th>user_id</th>\n      <th>session_id</th>\n      <th>timestamp</th>\n      <th>step</th>\n      <th>action_type</th>\n      <th>reference</th>\n      <th>platform</th>\n      <th>city</th>\n      <th>device</th>\n      <th>current_filters</th>\n      <th>impressions</th>\n      <th>prices</th>\n    </tr>\n  </thead>\n  <tbody>\n    <tr>\n      <th>0</th>\n      <td>00RL8Z82B2Z1</td>\n      <td>aff3928535f48</td>\n      <td>1541037460</td>\n      <td>1</td>\n      <td>search for poi</td>\n      <td>Newtown</td>\n      <td>AU</td>\n      <td>Sydney, Australia</td>\n      <td>mobile</td>\n      <td>NaN</td>\n      <td>NaN</td>\n      <td>NaN</td>\n    </tr>\n    <tr>\n      <th>1</th>\n      <td>00RL8Z82B2Z1</td>\n      <td>aff3928535f48</td>\n      <td>1541037522</td>\n      <td>2</td>\n      <td>interaction item image</td>\n      <td>666856</td>\n      <td>AU</td>\n      <td>Sydney, Australia</td>\n      <td>mobile</td>\n      <td>NaN</td>\n      <td>NaN</td>\n      <td>NaN</td>\n    </tr>\n    <tr>\n      <th>2</th>\n      <td>00RL8Z82B2Z1</td>\n      <td>aff3928535f48</td>\n      <td>1541037522</td>\n      <td>3</td>\n      <td>interaction item image</td>\n      <td>666856</td>\n      <td>AU</td>\n      <td>Sydney, Australia</td>\n      <td>mobile</td>\n      <td>NaN</td>\n      <td>NaN</td>\n      <td>NaN</td>\n    </tr>\n    <tr>\n      <th>3</th>\n      <td>00RL8Z82B2Z1</td>\n      <td>aff3928535f48</td>\n      <td>1541037532</td>\n      <td>4</td>\n      <td>interaction item image</td>\n      <td>666856</td>\n      <td>AU</td>\n      <td>Sydney, Australia</td>\n      <td>mobile</td>\n      <td>NaN</td>\n      <td>NaN</td>\n      <td>NaN</td>\n    </tr>\n    <tr>\n      <th>4</th>\n      <td>00RL8Z82B2Z1</td>\n      <td>aff3928535f48</td>\n      <td>1541037532</td>\n      <td>5</td>\n      <td>interaction item image</td>\n      <td>109038</td>\n      <td>AU</td>\n      <td>Sydney, Australia</td>\n      <td>mobile</td>\n      <td>NaN</td>\n      <td>NaN</td>\n      <td>NaN</td>\n    </tr>\n  </tbody>\n</table>\n</div>",
      "text/plain": "        user_id     session_id   timestamp  step             action_type  \\\n0  00RL8Z82B2Z1  aff3928535f48  1541037460     1          search for poi   \n1  00RL8Z82B2Z1  aff3928535f48  1541037522     2  interaction item image   \n2  00RL8Z82B2Z1  aff3928535f48  1541037522     3  interaction item image   \n3  00RL8Z82B2Z1  aff3928535f48  1541037532     4  interaction item image   \n4  00RL8Z82B2Z1  aff3928535f48  1541037532     5  interaction item image   \n\n  reference platform               city  device current_filters impressions  \\\n0   Newtown       AU  Sydney, Australia  mobile             NaN         NaN   \n1    666856       AU  Sydney, Australia  mobile             NaN         NaN   \n2    666856       AU  Sydney, Australia  mobile             NaN         NaN   \n3    666856       AU  Sydney, Australia  mobile             NaN         NaN   \n4    109038       AU  Sydney, Australia  mobile             NaN         NaN   \n\n  prices  \n0    NaN  \n1    NaN  \n2    NaN  \n3    NaN  \n4    NaN  "
     },
     "execution_count": 6,
     "metadata": {},
     "output_type": "execute_result"
    }
   ],
   "source": [
    "train_exercise = train[:100000]\n",
    "train_exercise.head()"
   ]
  },
  {
   "cell_type": "markdown",
   "execution_count": null,
   "metadata": {},
   "outputs": [],
   "source": [
    "`get last interaction`"
   ]
  },
  {
   "cell_type": "code",
   "execution_count": 5,
   "metadata": {},
   "outputs": [
    {
     "name": "stderr",
     "output_type": "stream",
     "text": "/anaconda3/lib/python3.7/site-packages/ipykernel_launcher.py:1: SettingWithCopyWarning: \nA value is trying to be set on a copy of a slice from a DataFrame.\nTry using .loc[row_indexer,col_indexer] = value instead\n\nSee the caveats in the documentation: http://pandas.pydata.org/pandas-docs/stable/indexing.html#indexing-view-versus-copy\n  \"\"\"Entry point for launching an IPython kernel.\n"
    }
   ],
   "source": [
    "train_exercise['last_session_click'] = train_exercise.groupby(['user_id','session_id'])['step'].transform(lambda x: x == x.iloc[-1]).astype(int)\n"
   ]
  },
  {
   "cell_type": "code",
   "execution_count": 6,
   "metadata": {},
   "outputs": [
    {
     "name": "stderr",
     "output_type": "stream",
     "text": "/anaconda3/lib/python3.7/site-packages/ipykernel_launcher.py:1: SettingWithCopyWarning: \nA value is trying to be set on a copy of a slice from a DataFrame.\nTry using .loc[row_indexer,col_indexer] = value instead\n\nSee the caveats in the documentation: http://pandas.pydata.org/pandas-docs/stable/indexing.html#indexing-view-versus-copy\n  \"\"\"Entry point for launching an IPython kernel.\n/anaconda3/lib/python3.7/site-packages/ipykernel_launcher.py:2: SettingWithCopyWarning: \nA value is trying to be set on a copy of a slice from a DataFrame.\nTry using .loc[row_indexer,col_indexer] = value instead\n\nSee the caveats in the documentation: http://pandas.pydata.org/pandas-docs/stable/indexing.html#indexing-view-versus-copy\n  \n"
    }
   ],
   "source": [
    "train_exercise['last_item_interacted'] = train_exercise.loc[train_exercise['last_session_click'].shift(-1)==1, 'reference']\n",
    "train_exercise['last_item_interacted'] = train_exercise['last_item_interacted'].shift()"
   ]
  },
  {
   "cell_type": "code",
   "execution_count": 7,
   "metadata": {},
   "outputs": [
    {
     "data": {
      "text/html": "<div>\n<style scoped>\n    .dataframe tbody tr th:only-of-type {\n        vertical-align: middle;\n    }\n\n    .dataframe tbody tr th {\n        vertical-align: top;\n    }\n\n    .dataframe thead th {\n        text-align: right;\n    }\n</style>\n<table border=\"1\" class=\"dataframe\">\n  <thead>\n    <tr style=\"text-align: right;\">\n      <th></th>\n      <th>user_id</th>\n      <th>session_id</th>\n      <th>timestamp</th>\n      <th>step</th>\n      <th>action_type</th>\n      <th>reference</th>\n      <th>platform</th>\n      <th>city</th>\n      <th>device</th>\n      <th>current_filters</th>\n      <th>impressions</th>\n      <th>prices</th>\n    </tr>\n  </thead>\n  <tbody>\n    <tr>\n      <th>0</th>\n      <td>00RL8Z82B2Z1</td>\n      <td>aff3928535f48</td>\n      <td>1541037460</td>\n      <td>1</td>\n      <td>search for poi</td>\n      <td>Newtown</td>\n      <td>AU</td>\n      <td>Sydney, Australia</td>\n      <td>mobile</td>\n      <td>NaN</td>\n      <td>NaN</td>\n      <td>NaN</td>\n    </tr>\n    <tr>\n      <th>1</th>\n      <td>00RL8Z82B2Z1</td>\n      <td>aff3928535f48</td>\n      <td>1541037522</td>\n      <td>2</td>\n      <td>interaction item image</td>\n      <td>666856</td>\n      <td>AU</td>\n      <td>Sydney, Australia</td>\n      <td>mobile</td>\n      <td>NaN</td>\n      <td>NaN</td>\n      <td>NaN</td>\n    </tr>\n    <tr>\n      <th>2</th>\n      <td>00RL8Z82B2Z1</td>\n      <td>aff3928535f48</td>\n      <td>1541037522</td>\n      <td>3</td>\n      <td>interaction item image</td>\n      <td>666856</td>\n      <td>AU</td>\n      <td>Sydney, Australia</td>\n      <td>mobile</td>\n      <td>NaN</td>\n      <td>NaN</td>\n      <td>NaN</td>\n    </tr>\n    <tr>\n      <th>3</th>\n      <td>00RL8Z82B2Z1</td>\n      <td>aff3928535f48</td>\n      <td>1541037532</td>\n      <td>4</td>\n      <td>interaction item image</td>\n      <td>666856</td>\n      <td>AU</td>\n      <td>Sydney, Australia</td>\n      <td>mobile</td>\n      <td>NaN</td>\n      <td>NaN</td>\n      <td>NaN</td>\n    </tr>\n    <tr>\n      <th>4</th>\n      <td>00RL8Z82B2Z1</td>\n      <td>aff3928535f48</td>\n      <td>1541037532</td>\n      <td>5</td>\n      <td>interaction item image</td>\n      <td>109038</td>\n      <td>AU</td>\n      <td>Sydney, Australia</td>\n      <td>mobile</td>\n      <td>NaN</td>\n      <td>NaN</td>\n      <td>NaN</td>\n    </tr>\n  </tbody>\n</table>\n</div>",
      "text/plain": "        user_id     session_id   timestamp  step             action_type  \\\n0  00RL8Z82B2Z1  aff3928535f48  1541037460     1          search for poi   \n1  00RL8Z82B2Z1  aff3928535f48  1541037522     2  interaction item image   \n2  00RL8Z82B2Z1  aff3928535f48  1541037522     3  interaction item image   \n3  00RL8Z82B2Z1  aff3928535f48  1541037532     4  interaction item image   \n4  00RL8Z82B2Z1  aff3928535f48  1541037532     5  interaction item image   \n\n  reference platform               city  device current_filters impressions  \\\n0   Newtown       AU  Sydney, Australia  mobile             NaN         NaN   \n1    666856       AU  Sydney, Australia  mobile             NaN         NaN   \n2    666856       AU  Sydney, Australia  mobile             NaN         NaN   \n3    666856       AU  Sydney, Australia  mobile             NaN         NaN   \n4    109038       AU  Sydney, Australia  mobile             NaN         NaN   \n\n  prices  \n0    NaN  \n1    NaN  \n2    NaN  \n3    NaN  \n4    NaN  "
     },
     "execution_count": 7,
     "metadata": {},
     "output_type": "execute_result"
    }
   ],
   "source": [
    "train_exercise.head()"
   ]
  },
  {
   "cell_type": "markdown",
   "execution_count": null,
   "metadata": {},
   "outputs": [],
   "source": [
    "`explode to compute stats`"
   ]
  },
  {
   "cell_type": "code",
   "execution_count": 10,
   "metadata": {},
   "outputs": [],
   "source": [
    "train_exercise_expl = explode_item_price(train_exercise, 'impressions', 'prices')"
   ]
  },
  {
   "cell_type": "code",
   "execution_count": 11,
   "metadata": {},
   "outputs": [],
   "source": [
    "train_exercise_expl = train_exercise_expl.astype(str)"
   ]
  },
  {
   "cell_type": "code",
   "execution_count": 12,
   "metadata": {},
   "outputs": [],
   "source": [
    "train_exercise_expl['is_clicked'] = np.where(train_exercise_expl['reference'] == train_exercise_expl['impressions'], 1, 0)\n",
    "train_exercise_expl['last_interacted_flag'] = np.where(train_exercise_expl['last_item_interacted'] == train_exercise_expl['impressions'], 0.5, 1)\n"
   ]
  },
  {
   "cell_type": "code",
   "execution_count": 13,
   "metadata": {},
   "outputs": [
    {
     "data": {
      "text/html": "<div>\n<style scoped>\n    .dataframe tbody tr th:only-of-type {\n        vertical-align: middle;\n    }\n\n    .dataframe tbody tr th {\n        vertical-align: top;\n    }\n\n    .dataframe thead th {\n        text-align: right;\n    }\n</style>\n<table border=\"1\" class=\"dataframe\">\n  <thead>\n    <tr style=\"text-align: right;\">\n      <th></th>\n      <th></th>\n      <th>user_id</th>\n      <th>session_id</th>\n      <th>timestamp</th>\n      <th>step</th>\n      <th>action_type</th>\n      <th>reference</th>\n      <th>platform</th>\n      <th>city</th>\n      <th>device</th>\n      <th>current_filters</th>\n      <th>last_session_click</th>\n      <th>last_item_interacted</th>\n      <th>impressions</th>\n      <th>prices</th>\n    </tr>\n    <tr>\n      <th>last_interacted_flag</th>\n      <th>is_clicked</th>\n      <th></th>\n      <th></th>\n      <th></th>\n      <th></th>\n      <th></th>\n      <th></th>\n      <th></th>\n      <th></th>\n      <th></th>\n      <th></th>\n      <th></th>\n      <th></th>\n      <th></th>\n      <th></th>\n    </tr>\n  </thead>\n  <tbody>\n    <tr>\n      <th rowspan=\"2\" valign=\"top\">0.5</th>\n      <th>0</th>\n      <td>732</td>\n      <td>732</td>\n      <td>732</td>\n      <td>732</td>\n      <td>732</td>\n      <td>732</td>\n      <td>732</td>\n      <td>732</td>\n      <td>732</td>\n      <td>732</td>\n      <td>732</td>\n      <td>732</td>\n      <td>732</td>\n      <td>732</td>\n    </tr>\n    <tr>\n      <th>1</th>\n      <td>1246</td>\n      <td>1246</td>\n      <td>1246</td>\n      <td>1246</td>\n      <td>1246</td>\n      <td>1246</td>\n      <td>1246</td>\n      <td>1246</td>\n      <td>1246</td>\n      <td>1246</td>\n      <td>1246</td>\n      <td>1246</td>\n      <td>1246</td>\n      <td>1246</td>\n    </tr>\n    <tr>\n      <th rowspan=\"2\" valign=\"top\">1.0</th>\n      <th>0</th>\n      <td>203424</td>\n      <td>203424</td>\n      <td>203424</td>\n      <td>203424</td>\n      <td>203424</td>\n      <td>203424</td>\n      <td>203424</td>\n      <td>203424</td>\n      <td>203424</td>\n      <td>203424</td>\n      <td>203424</td>\n      <td>203424</td>\n      <td>203424</td>\n      <td>203424</td>\n    </tr>\n    <tr>\n      <th>1</th>\n      <td>8031</td>\n      <td>8031</td>\n      <td>8031</td>\n      <td>8031</td>\n      <td>8031</td>\n      <td>8031</td>\n      <td>8031</td>\n      <td>8031</td>\n      <td>8031</td>\n      <td>8031</td>\n      <td>8031</td>\n      <td>8031</td>\n      <td>8031</td>\n      <td>8031</td>\n    </tr>\n  </tbody>\n</table>\n</div>",
      "text/plain": "                                 user_id  session_id  timestamp    step  \\\nlast_interacted_flag is_clicked                                           \n0.5                  0               732         732        732     732   \n                     1              1246        1246       1246    1246   \n1.0                  0            203424      203424     203424  203424   \n                     1              8031        8031       8031    8031   \n\n                                 action_type  reference  platform    city  \\\nlast_interacted_flag is_clicked                                             \n0.5                  0                   732        732       732     732   \n                     1                  1246       1246      1246    1246   \n1.0                  0                203424     203424    203424  203424   \n                     1                  8031       8031      8031    8031   \n\n                                 device  current_filters  last_session_click  \\\nlast_interacted_flag is_clicked                                                \n0.5                  0              732              732                 732   \n                     1             1246             1246                1246   \n1.0                  0           203424           203424              203424   \n                     1             8031             8031                8031   \n\n                                 last_item_interacted  impressions  prices  \nlast_interacted_flag is_clicked                                             \n0.5                  0                            732          732     732  \n                     1                           1246         1246    1246  \n1.0                  0                         203424       203424  203424  \n                     1                           8031         8031    8031  "
     },
     "execution_count": 13,
     "metadata": {},
     "output_type": "execute_result"
    }
   ],
   "source": [
    "train_exercise_expl.groupby(['last_interacted_flag','is_clicked']).count()"
   ]
  },
  {
   "cell_type": "markdown",
   "execution_count": null,
   "metadata": {},
   "outputs": [],
   "source": [
    "## creating the formula 2.0"
   ]
  },
  {
   "cell_type": "code",
   "execution_count": 24,
   "metadata": {},
   "outputs": [],
   "source": [
    "GR_COLS = [\"user_id\", \"session_id\", \"timestamp\", \"step\"]"
   ]
  },
  {
   "cell_type": "code",
   "execution_count": 15,
   "metadata": {},
   "outputs": [
    {
     "name": "stderr",
     "output_type": "stream",
     "text": "/anaconda3/lib/python3.7/site-packages/ipykernel_launcher.py:2: SettingWithCopyWarning: \nA value is trying to be set on a copy of a slice from a DataFrame.\nTry using .loc[row_indexer,col_indexer] = value instead\n\nSee the caveats in the documentation: http://pandas.pydata.org/pandas-docs/stable/indexing.html#indexing-view-versus-copy\n  \n/anaconda3/lib/python3.7/site-packages/ipykernel_launcher.py:3: SettingWithCopyWarning: \nA value is trying to be set on a copy of a slice from a DataFrame.\nTry using .loc[row_indexer,col_indexer] = value instead\n\nSee the caveats in the documentation: http://pandas.pydata.org/pandas-docs/stable/indexing.html#indexing-view-versus-copy\n  This is separate from the ipykernel package so we can avoid doing imports until\n/anaconda3/lib/python3.7/site-packages/ipykernel_launcher.py:4: SettingWithCopyWarning: \nA value is trying to be set on a copy of a slice from a DataFrame.\nTry using .loc[row_indexer,col_indexer] = value instead\n\nSee the caveats in the documentation: http://pandas.pydata.org/pandas-docs/stable/indexing.html#indexing-view-versus-copy\n  after removing the cwd from sys.path.\n"
    }
   ],
   "source": [
    "train_exercise = train[:100000]\n",
    "train_exercise['last_session_click'] = train_exercise.groupby(['user_id','session_id'])['step'].transform(lambda x: x == x.iloc[-1]).astype(int)\n",
    "train_exercise['last_item_interacted'] = train_exercise.loc[train_exercise['last_session_click'].shift(-1)==1, 'reference']\n",
    "train_exercise['last_item_interacted'] = train_exercise['last_item_interacted'].shift()"
   ]
  },
  {
   "cell_type": "code",
   "execution_count": 16,
   "metadata": {},
   "outputs": [
    {
     "data": {
      "text/html": "<div>\n<style scoped>\n    .dataframe tbody tr th:only-of-type {\n        vertical-align: middle;\n    }\n\n    .dataframe tbody tr th {\n        vertical-align: top;\n    }\n\n    .dataframe thead th {\n        text-align: right;\n    }\n</style>\n<table border=\"1\" class=\"dataframe\">\n  <thead>\n    <tr style=\"text-align: right;\">\n      <th></th>\n      <th>user_id</th>\n      <th>session_id</th>\n      <th>timestamp</th>\n      <th>step</th>\n      <th>action_type</th>\n      <th>reference</th>\n      <th>platform</th>\n      <th>city</th>\n      <th>device</th>\n      <th>current_filters</th>\n      <th>impressions</th>\n      <th>prices</th>\n      <th>last_session_click</th>\n      <th>last_item_interacted</th>\n    </tr>\n  </thead>\n  <tbody>\n    <tr>\n      <th>0</th>\n      <td>00RL8Z82B2Z1</td>\n      <td>aff3928535f48</td>\n      <td>1541037460</td>\n      <td>1</td>\n      <td>search for poi</td>\n      <td>Newtown</td>\n      <td>AU</td>\n      <td>Sydney, Australia</td>\n      <td>mobile</td>\n      <td>NaN</td>\n      <td>NaN</td>\n      <td>NaN</td>\n      <td>0</td>\n      <td>NaN</td>\n    </tr>\n    <tr>\n      <th>1</th>\n      <td>00RL8Z82B2Z1</td>\n      <td>aff3928535f48</td>\n      <td>1541037522</td>\n      <td>2</td>\n      <td>interaction item image</td>\n      <td>666856</td>\n      <td>AU</td>\n      <td>Sydney, Australia</td>\n      <td>mobile</td>\n      <td>NaN</td>\n      <td>NaN</td>\n      <td>NaN</td>\n      <td>0</td>\n      <td>NaN</td>\n    </tr>\n    <tr>\n      <th>2</th>\n      <td>00RL8Z82B2Z1</td>\n      <td>aff3928535f48</td>\n      <td>1541037522</td>\n      <td>3</td>\n      <td>interaction item image</td>\n      <td>666856</td>\n      <td>AU</td>\n      <td>Sydney, Australia</td>\n      <td>mobile</td>\n      <td>NaN</td>\n      <td>NaN</td>\n      <td>NaN</td>\n      <td>0</td>\n      <td>NaN</td>\n    </tr>\n    <tr>\n      <th>3</th>\n      <td>00RL8Z82B2Z1</td>\n      <td>aff3928535f48</td>\n      <td>1541037532</td>\n      <td>4</td>\n      <td>interaction item image</td>\n      <td>666856</td>\n      <td>AU</td>\n      <td>Sydney, Australia</td>\n      <td>mobile</td>\n      <td>NaN</td>\n      <td>NaN</td>\n      <td>NaN</td>\n      <td>0</td>\n      <td>NaN</td>\n    </tr>\n    <tr>\n      <th>4</th>\n      <td>00RL8Z82B2Z1</td>\n      <td>aff3928535f48</td>\n      <td>1541037532</td>\n      <td>5</td>\n      <td>interaction item image</td>\n      <td>109038</td>\n      <td>AU</td>\n      <td>Sydney, Australia</td>\n      <td>mobile</td>\n      <td>NaN</td>\n      <td>NaN</td>\n      <td>NaN</td>\n      <td>0</td>\n      <td>NaN</td>\n    </tr>\n    <tr>\n      <th>5</th>\n      <td>00RL8Z82B2Z1</td>\n      <td>aff3928535f48</td>\n      <td>1541037532</td>\n      <td>6</td>\n      <td>interaction item image</td>\n      <td>666856</td>\n      <td>AU</td>\n      <td>Sydney, Australia</td>\n      <td>mobile</td>\n      <td>NaN</td>\n      <td>NaN</td>\n      <td>NaN</td>\n      <td>0</td>\n      <td>NaN</td>\n    </tr>\n    <tr>\n      <th>6</th>\n      <td>00RL8Z82B2Z1</td>\n      <td>aff3928535f48</td>\n      <td>1541037532</td>\n      <td>7</td>\n      <td>interaction item image</td>\n      <td>109038</td>\n      <td>AU</td>\n      <td>Sydney, Australia</td>\n      <td>mobile</td>\n      <td>NaN</td>\n      <td>NaN</td>\n      <td>NaN</td>\n      <td>0</td>\n      <td>NaN</td>\n    </tr>\n    <tr>\n      <th>7</th>\n      <td>00RL8Z82B2Z1</td>\n      <td>aff3928535f48</td>\n      <td>1541037532</td>\n      <td>8</td>\n      <td>interaction item image</td>\n      <td>666856</td>\n      <td>AU</td>\n      <td>Sydney, Australia</td>\n      <td>mobile</td>\n      <td>NaN</td>\n      <td>NaN</td>\n      <td>NaN</td>\n      <td>0</td>\n      <td>NaN</td>\n    </tr>\n    <tr>\n      <th>8</th>\n      <td>00RL8Z82B2Z1</td>\n      <td>aff3928535f48</td>\n      <td>1541037542</td>\n      <td>9</td>\n      <td>interaction item image</td>\n      <td>109038</td>\n      <td>AU</td>\n      <td>Sydney, Australia</td>\n      <td>mobile</td>\n      <td>NaN</td>\n      <td>NaN</td>\n      <td>NaN</td>\n      <td>0</td>\n      <td>NaN</td>\n    </tr>\n    <tr>\n      <th>9</th>\n      <td>00RL8Z82B2Z1</td>\n      <td>aff3928535f48</td>\n      <td>1541037542</td>\n      <td>10</td>\n      <td>interaction item image</td>\n      <td>109038</td>\n      <td>AU</td>\n      <td>Sydney, Australia</td>\n      <td>mobile</td>\n      <td>NaN</td>\n      <td>NaN</td>\n      <td>NaN</td>\n      <td>0</td>\n      <td>NaN</td>\n    </tr>\n    <tr>\n      <th>10</th>\n      <td>00RL8Z82B2Z1</td>\n      <td>aff3928535f48</td>\n      <td>1541037542</td>\n      <td>11</td>\n      <td>interaction item image</td>\n      <td>109038</td>\n      <td>AU</td>\n      <td>Sydney, Australia</td>\n      <td>mobile</td>\n      <td>NaN</td>\n      <td>NaN</td>\n      <td>NaN</td>\n      <td>0</td>\n      <td>NaN</td>\n    </tr>\n    <tr>\n      <th>11</th>\n      <td>00RL8Z82B2Z1</td>\n      <td>aff3928535f48</td>\n      <td>1541037542</td>\n      <td>12</td>\n      <td>interaction item image</td>\n      <td>109038</td>\n      <td>AU</td>\n      <td>Sydney, Australia</td>\n      <td>mobile</td>\n      <td>NaN</td>\n      <td>NaN</td>\n      <td>NaN</td>\n      <td>0</td>\n      <td>NaN</td>\n    </tr>\n    <tr>\n      <th>12</th>\n      <td>00RL8Z82B2Z1</td>\n      <td>aff3928535f48</td>\n      <td>1541037542</td>\n      <td>13</td>\n      <td>interaction item image</td>\n      <td>109038</td>\n      <td>AU</td>\n      <td>Sydney, Australia</td>\n      <td>mobile</td>\n      <td>NaN</td>\n      <td>NaN</td>\n      <td>NaN</td>\n      <td>0</td>\n      <td>NaN</td>\n    </tr>\n    <tr>\n      <th>13</th>\n      <td>00RL8Z82B2Z1</td>\n      <td>aff3928535f48</td>\n      <td>1541037543</td>\n      <td>14</td>\n      <td>clickout item</td>\n      <td>109038</td>\n      <td>AU</td>\n      <td>Sydney, Australia</td>\n      <td>mobile</td>\n      <td>NaN</td>\n      <td>3400638|1253714|3367857|5100540|1088584|666916...</td>\n      <td>95|66|501|112|95|100|101|72|82|56|56|143|70|25...</td>\n      <td>0</td>\n      <td>NaN</td>\n    </tr>\n    <tr>\n      <th>14</th>\n      <td>00RL8Z82B2Z1</td>\n      <td>aff3928535f48</td>\n      <td>1541038469</td>\n      <td>15</td>\n      <td>search for poi</td>\n      <td>Surry Hills</td>\n      <td>AU</td>\n      <td>Sydney, Australia</td>\n      <td>mobile</td>\n      <td>NaN</td>\n      <td>NaN</td>\n      <td>NaN</td>\n      <td>0</td>\n      <td>NaN</td>\n    </tr>\n    <tr>\n      <th>15</th>\n      <td>00RL8Z82B2Z1</td>\n      <td>aff3928535f48</td>\n      <td>1541038485</td>\n      <td>16</td>\n      <td>clickout item</td>\n      <td>1257342</td>\n      <td>AU</td>\n      <td>Sydney, Australia</td>\n      <td>mobile</td>\n      <td>NaN</td>\n      <td>55109|129343|54824|2297972|109014|1257342|1031...</td>\n      <td>162|25|150|143|101|49|118|131|18|100|101|143|5...</td>\n      <td>1</td>\n      <td>Surry Hills</td>\n    </tr>\n    <tr>\n      <th>16</th>\n      <td>02HGRBA06ODU</td>\n      <td>fa3a53156ae5c</td>\n      <td>1541030832</td>\n      <td>1</td>\n      <td>interaction item info</td>\n      <td>3377332</td>\n      <td>BR</td>\n      <td>Ubatuba, Brazil</td>\n      <td>mobile</td>\n      <td>NaN</td>\n      <td>NaN</td>\n      <td>NaN</td>\n      <td>0</td>\n      <td>NaN</td>\n    </tr>\n    <tr>\n      <th>17</th>\n      <td>02HGRBA06ODU</td>\n      <td>fa3a53156ae5c</td>\n      <td>1541030843</td>\n      <td>2</td>\n      <td>interaction item image</td>\n      <td>3377332</td>\n      <td>BR</td>\n      <td>Ubatuba, Brazil</td>\n      <td>mobile</td>\n      <td>NaN</td>\n      <td>NaN</td>\n      <td>NaN</td>\n      <td>0</td>\n      <td>NaN</td>\n    </tr>\n    <tr>\n      <th>18</th>\n      <td>02HGRBA06ODU</td>\n      <td>fa3a53156ae5c</td>\n      <td>1541030843</td>\n      <td>3</td>\n      <td>interaction item image</td>\n      <td>3377332</td>\n      <td>BR</td>\n      <td>Ubatuba, Brazil</td>\n      <td>mobile</td>\n      <td>NaN</td>\n      <td>NaN</td>\n      <td>NaN</td>\n      <td>0</td>\n      <td>NaN</td>\n    </tr>\n    <tr>\n      <th>19</th>\n      <td>02HGRBA06ODU</td>\n      <td>fa3a53156ae5c</td>\n      <td>1541030852</td>\n      <td>4</td>\n      <td>interaction item info</td>\n      <td>3377332</td>\n      <td>BR</td>\n      <td>Ubatuba, Brazil</td>\n      <td>mobile</td>\n      <td>NaN</td>\n      <td>NaN</td>\n      <td>NaN</td>\n      <td>0</td>\n      <td>NaN</td>\n    </tr>\n    <tr>\n      <th>20</th>\n      <td>02HGRBA06ODU</td>\n      <td>fa3a53156ae5c</td>\n      <td>1541030867</td>\n      <td>5</td>\n      <td>interaction item info</td>\n      <td>3066244</td>\n      <td>BR</td>\n      <td>Ubatuba, Brazil</td>\n      <td>mobile</td>\n      <td>NaN</td>\n      <td>NaN</td>\n      <td>NaN</td>\n      <td>0</td>\n      <td>NaN</td>\n    </tr>\n    <tr>\n      <th>21</th>\n      <td>02HGRBA06ODU</td>\n      <td>fa3a53156ae5c</td>\n      <td>1541030877</td>\n      <td>6</td>\n      <td>interaction item image</td>\n      <td>3066244</td>\n      <td>BR</td>\n      <td>Ubatuba, Brazil</td>\n      <td>mobile</td>\n      <td>NaN</td>\n      <td>NaN</td>\n      <td>NaN</td>\n      <td>0</td>\n      <td>NaN</td>\n    </tr>\n    <tr>\n      <th>22</th>\n      <td>02HGRBA06ODU</td>\n      <td>fa3a53156ae5c</td>\n      <td>1541030877</td>\n      <td>7</td>\n      <td>interaction item image</td>\n      <td>3066244</td>\n      <td>BR</td>\n      <td>Ubatuba, Brazil</td>\n      <td>mobile</td>\n      <td>NaN</td>\n      <td>NaN</td>\n      <td>NaN</td>\n      <td>0</td>\n      <td>NaN</td>\n    </tr>\n    <tr>\n      <th>23</th>\n      <td>02HGRBA06ODU</td>\n      <td>fa3a53156ae5c</td>\n      <td>1541030887</td>\n      <td>8</td>\n      <td>interaction item image</td>\n      <td>3066244</td>\n      <td>BR</td>\n      <td>Ubatuba, Brazil</td>\n      <td>mobile</td>\n      <td>NaN</td>\n      <td>NaN</td>\n      <td>NaN</td>\n      <td>0</td>\n      <td>NaN</td>\n    </tr>\n    <tr>\n      <th>24</th>\n      <td>02HGRBA06ODU</td>\n      <td>fa3a53156ae5c</td>\n      <td>1541030887</td>\n      <td>9</td>\n      <td>interaction item image</td>\n      <td>3066244</td>\n      <td>BR</td>\n      <td>Ubatuba, Brazil</td>\n      <td>mobile</td>\n      <td>NaN</td>\n      <td>NaN</td>\n      <td>NaN</td>\n      <td>0</td>\n      <td>NaN</td>\n    </tr>\n    <tr>\n      <th>25</th>\n      <td>02HGRBA06ODU</td>\n      <td>fa3a53156ae5c</td>\n      <td>1541030887</td>\n      <td>10</td>\n      <td>interaction item image</td>\n      <td>3066244</td>\n      <td>BR</td>\n      <td>Ubatuba, Brazil</td>\n      <td>mobile</td>\n      <td>NaN</td>\n      <td>NaN</td>\n      <td>NaN</td>\n      <td>0</td>\n      <td>NaN</td>\n    </tr>\n    <tr>\n      <th>26</th>\n      <td>02HGRBA06ODU</td>\n      <td>fa3a53156ae5c</td>\n      <td>1541030897</td>\n      <td>11</td>\n      <td>interaction item image</td>\n      <td>3066244</td>\n      <td>BR</td>\n      <td>Ubatuba, Brazil</td>\n      <td>mobile</td>\n      <td>NaN</td>\n      <td>NaN</td>\n      <td>NaN</td>\n      <td>0</td>\n      <td>NaN</td>\n    </tr>\n    <tr>\n      <th>27</th>\n      <td>02HGRBA06ODU</td>\n      <td>fa3a53156ae5c</td>\n      <td>1541030897</td>\n      <td>12</td>\n      <td>interaction item image</td>\n      <td>3066244</td>\n      <td>BR</td>\n      <td>Ubatuba, Brazil</td>\n      <td>mobile</td>\n      <td>NaN</td>\n      <td>NaN</td>\n      <td>NaN</td>\n      <td>0</td>\n      <td>NaN</td>\n    </tr>\n    <tr>\n      <th>28</th>\n      <td>02HGRBA06ODU</td>\n      <td>fa3a53156ae5c</td>\n      <td>1541030897</td>\n      <td>13</td>\n      <td>interaction item image</td>\n      <td>3066244</td>\n      <td>BR</td>\n      <td>Ubatuba, Brazil</td>\n      <td>mobile</td>\n      <td>NaN</td>\n      <td>NaN</td>\n      <td>NaN</td>\n      <td>0</td>\n      <td>NaN</td>\n    </tr>\n    <tr>\n      <th>29</th>\n      <td>02HGRBA06ODU</td>\n      <td>fa3a53156ae5c</td>\n      <td>1541030897</td>\n      <td>14</td>\n      <td>interaction item image</td>\n      <td>3066244</td>\n      <td>BR</td>\n      <td>Ubatuba, Brazil</td>\n      <td>mobile</td>\n      <td>NaN</td>\n      <td>NaN</td>\n      <td>NaN</td>\n      <td>0</td>\n      <td>NaN</td>\n    </tr>\n    <tr>\n      <th>...</th>\n      <td>...</td>\n      <td>...</td>\n      <td>...</td>\n      <td>...</td>\n      <td>...</td>\n      <td>...</td>\n      <td>...</td>\n      <td>...</td>\n      <td>...</td>\n      <td>...</td>\n      <td>...</td>\n      <td>...</td>\n      <td>...</td>\n      <td>...</td>\n    </tr>\n    <tr>\n      <th>970</th>\n      <td>1KTPEDQB89UY</td>\n      <td>649458cf7bc3e</td>\n      <td>1541071792</td>\n      <td>43</td>\n      <td>interaction item image</td>\n      <td>2679006</td>\n      <td>TH</td>\n      <td>Phetchabun, Thailand</td>\n      <td>mobile</td>\n      <td>NaN</td>\n      <td>NaN</td>\n      <td>NaN</td>\n      <td>0</td>\n      <td>NaN</td>\n    </tr>\n    <tr>\n      <th>971</th>\n      <td>1KTPEDQB89UY</td>\n      <td>649458cf7bc3e</td>\n      <td>1541071873</td>\n      <td>44</td>\n      <td>clickout item</td>\n      <td>2295618</td>\n      <td>TH</td>\n      <td>Phetchabun, Thailand</td>\n      <td>mobile</td>\n      <td>NaN</td>\n      <td>4783716|134412|2677282|2635106|3371467|2266848...</td>\n      <td>16|51|24|142|93|59|23|37|79|33|11|40|36|34|21|...</td>\n      <td>1</td>\n      <td>2679006</td>\n    </tr>\n    <tr>\n      <th>972</th>\n      <td>1MYZFNQNA1JL</td>\n      <td>73c99d2cd8728</td>\n      <td>1541107510</td>\n      <td>1</td>\n      <td>search for item</td>\n      <td>3953294</td>\n      <td>UK</td>\n      <td>Liverpool, United Kingdom</td>\n      <td>desktop</td>\n      <td>NaN</td>\n      <td>NaN</td>\n      <td>NaN</td>\n      <td>0</td>\n      <td>NaN</td>\n    </tr>\n    <tr>\n      <th>973</th>\n      <td>1MYZFNQNA1JL</td>\n      <td>73c99d2cd8728</td>\n      <td>1541107524</td>\n      <td>2</td>\n      <td>clickout item</td>\n      <td>3953294</td>\n      <td>UK</td>\n      <td>Liverpool, United Kingdom</td>\n      <td>desktop</td>\n      <td>NaN</td>\n      <td>3953294|12618|2530750|3842698|18904|706646|106...</td>\n      <td>299|232|170|237|193|262|163|180|276|251|170|26...</td>\n      <td>1</td>\n      <td>3953294</td>\n    </tr>\n    <tr>\n      <th>974</th>\n      <td>1NRDBHYY4Q23</td>\n      <td>54694f389f9bb</td>\n      <td>1541085367</td>\n      <td>1</td>\n      <td>interaction item image</td>\n      <td>519156</td>\n      <td>MY</td>\n      <td>Kijal, Malaysia</td>\n      <td>mobile</td>\n      <td>NaN</td>\n      <td>NaN</td>\n      <td>NaN</td>\n      <td>0</td>\n      <td>NaN</td>\n    </tr>\n    <tr>\n      <th>975</th>\n      <td>1NRDBHYY4Q23</td>\n      <td>54694f389f9bb</td>\n      <td>1541085367</td>\n      <td>2</td>\n      <td>interaction item image</td>\n      <td>519156</td>\n      <td>MY</td>\n      <td>Kijal, Malaysia</td>\n      <td>mobile</td>\n      <td>NaN</td>\n      <td>NaN</td>\n      <td>NaN</td>\n      <td>0</td>\n      <td>NaN</td>\n    </tr>\n    <tr>\n      <th>976</th>\n      <td>1NRDBHYY4Q23</td>\n      <td>54694f389f9bb</td>\n      <td>1541085367</td>\n      <td>3</td>\n      <td>interaction item image</td>\n      <td>519156</td>\n      <td>MY</td>\n      <td>Kijal, Malaysia</td>\n      <td>mobile</td>\n      <td>NaN</td>\n      <td>NaN</td>\n      <td>NaN</td>\n      <td>0</td>\n      <td>NaN</td>\n    </tr>\n    <tr>\n      <th>977</th>\n      <td>1NRDBHYY4Q23</td>\n      <td>54694f389f9bb</td>\n      <td>1541085367</td>\n      <td>4</td>\n      <td>interaction item image</td>\n      <td>519156</td>\n      <td>MY</td>\n      <td>Kijal, Malaysia</td>\n      <td>mobile</td>\n      <td>NaN</td>\n      <td>NaN</td>\n      <td>NaN</td>\n      <td>0</td>\n      <td>NaN</td>\n    </tr>\n    <tr>\n      <th>978</th>\n      <td>1NRDBHYY4Q23</td>\n      <td>54694f389f9bb</td>\n      <td>1541085367</td>\n      <td>5</td>\n      <td>interaction item image</td>\n      <td>519156</td>\n      <td>MY</td>\n      <td>Kijal, Malaysia</td>\n      <td>mobile</td>\n      <td>NaN</td>\n      <td>NaN</td>\n      <td>NaN</td>\n      <td>0</td>\n      <td>NaN</td>\n    </tr>\n    <tr>\n      <th>979</th>\n      <td>1NRDBHYY4Q23</td>\n      <td>54694f389f9bb</td>\n      <td>1541085367</td>\n      <td>6</td>\n      <td>interaction item image</td>\n      <td>519156</td>\n      <td>MY</td>\n      <td>Kijal, Malaysia</td>\n      <td>mobile</td>\n      <td>NaN</td>\n      <td>NaN</td>\n      <td>NaN</td>\n      <td>0</td>\n      <td>NaN</td>\n    </tr>\n    <tr>\n      <th>980</th>\n      <td>1NRDBHYY4Q23</td>\n      <td>54694f389f9bb</td>\n      <td>1541085367</td>\n      <td>7</td>\n      <td>interaction item image</td>\n      <td>519156</td>\n      <td>MY</td>\n      <td>Kijal, Malaysia</td>\n      <td>mobile</td>\n      <td>NaN</td>\n      <td>NaN</td>\n      <td>NaN</td>\n      <td>0</td>\n      <td>NaN</td>\n    </tr>\n    <tr>\n      <th>981</th>\n      <td>1NRDBHYY4Q23</td>\n      <td>54694f389f9bb</td>\n      <td>1541085367</td>\n      <td>8</td>\n      <td>interaction item image</td>\n      <td>519156</td>\n      <td>MY</td>\n      <td>Kijal, Malaysia</td>\n      <td>mobile</td>\n      <td>NaN</td>\n      <td>NaN</td>\n      <td>NaN</td>\n      <td>0</td>\n      <td>NaN</td>\n    </tr>\n    <tr>\n      <th>982</th>\n      <td>1NRDBHYY4Q23</td>\n      <td>54694f389f9bb</td>\n      <td>1541085367</td>\n      <td>9</td>\n      <td>interaction item image</td>\n      <td>519156</td>\n      <td>MY</td>\n      <td>Kijal, Malaysia</td>\n      <td>mobile</td>\n      <td>NaN</td>\n      <td>NaN</td>\n      <td>NaN</td>\n      <td>0</td>\n      <td>NaN</td>\n    </tr>\n    <tr>\n      <th>983</th>\n      <td>1NRDBHYY4Q23</td>\n      <td>54694f389f9bb</td>\n      <td>1541085384</td>\n      <td>10</td>\n      <td>interaction item image</td>\n      <td>519156</td>\n      <td>MY</td>\n      <td>Kijal, Malaysia</td>\n      <td>mobile</td>\n      <td>NaN</td>\n      <td>NaN</td>\n      <td>NaN</td>\n      <td>0</td>\n      <td>NaN</td>\n    </tr>\n    <tr>\n      <th>984</th>\n      <td>1NRDBHYY4Q23</td>\n      <td>54694f389f9bb</td>\n      <td>1541085397</td>\n      <td>11</td>\n      <td>interaction item image</td>\n      <td>519156</td>\n      <td>MY</td>\n      <td>Kijal, Malaysia</td>\n      <td>mobile</td>\n      <td>NaN</td>\n      <td>NaN</td>\n      <td>NaN</td>\n      <td>0</td>\n      <td>NaN</td>\n    </tr>\n    <tr>\n      <th>985</th>\n      <td>1NRDBHYY4Q23</td>\n      <td>54694f389f9bb</td>\n      <td>1541085397</td>\n      <td>12</td>\n      <td>interaction item image</td>\n      <td>519156</td>\n      <td>MY</td>\n      <td>Kijal, Malaysia</td>\n      <td>mobile</td>\n      <td>NaN</td>\n      <td>NaN</td>\n      <td>NaN</td>\n      <td>0</td>\n      <td>NaN</td>\n    </tr>\n    <tr>\n      <th>986</th>\n      <td>1NRDBHYY4Q23</td>\n      <td>54694f389f9bb</td>\n      <td>1541085397</td>\n      <td>13</td>\n      <td>interaction item image</td>\n      <td>519156</td>\n      <td>MY</td>\n      <td>Kijal, Malaysia</td>\n      <td>mobile</td>\n      <td>NaN</td>\n      <td>NaN</td>\n      <td>NaN</td>\n      <td>0</td>\n      <td>NaN</td>\n    </tr>\n    <tr>\n      <th>987</th>\n      <td>1NRDBHYY4Q23</td>\n      <td>54694f389f9bb</td>\n      <td>1541085397</td>\n      <td>14</td>\n      <td>interaction item image</td>\n      <td>519156</td>\n      <td>MY</td>\n      <td>Kijal, Malaysia</td>\n      <td>mobile</td>\n      <td>NaN</td>\n      <td>NaN</td>\n      <td>NaN</td>\n      <td>0</td>\n      <td>NaN</td>\n    </tr>\n    <tr>\n      <th>988</th>\n      <td>1NRDBHYY4Q23</td>\n      <td>54694f389f9bb</td>\n      <td>1541085397</td>\n      <td>15</td>\n      <td>interaction item image</td>\n      <td>519156</td>\n      <td>MY</td>\n      <td>Kijal, Malaysia</td>\n      <td>mobile</td>\n      <td>NaN</td>\n      <td>NaN</td>\n      <td>NaN</td>\n      <td>0</td>\n      <td>NaN</td>\n    </tr>\n    <tr>\n      <th>989</th>\n      <td>1NRDBHYY4Q23</td>\n      <td>54694f389f9bb</td>\n      <td>1541085415</td>\n      <td>16</td>\n      <td>clickout item</td>\n      <td>519156</td>\n      <td>MY</td>\n      <td>Kijal, Malaysia</td>\n      <td>mobile</td>\n      <td>NaN</td>\n      <td>519156|3804628|5091040|3228742|6807498|5155718...</td>\n      <td>67|18|18|23|26|20|22|15|11|130</td>\n      <td>1</td>\n      <td>519156</td>\n    </tr>\n    <tr>\n      <th>990</th>\n      <td>1PFOT2YWS146</td>\n      <td>862043530adde</td>\n      <td>1541093637</td>\n      <td>1</td>\n      <td>clickout item</td>\n      <td>78420</td>\n      <td>US</td>\n      <td>Erie, USA</td>\n      <td>mobile</td>\n      <td>NaN</td>\n      <td>3816090|59049|942643|3152072|76950|6621092|604...</td>\n      <td>59|52|78|70|53|63|146|44|63|87|113|69|62|104|1...</td>\n      <td>0</td>\n      <td>NaN</td>\n    </tr>\n    <tr>\n      <th>991</th>\n      <td>1PFOT2YWS146</td>\n      <td>862043530adde</td>\n      <td>1541094073</td>\n      <td>2</td>\n      <td>interaction item info</td>\n      <td>60705</td>\n      <td>US</td>\n      <td>Erie, USA</td>\n      <td>mobile</td>\n      <td>NaN</td>\n      <td>NaN</td>\n      <td>NaN</td>\n      <td>0</td>\n      <td>NaN</td>\n    </tr>\n    <tr>\n      <th>992</th>\n      <td>1PFOT2YWS146</td>\n      <td>862043530adde</td>\n      <td>1541094079</td>\n      <td>3</td>\n      <td>clickout item</td>\n      <td>60705</td>\n      <td>US</td>\n      <td>Erie, USA</td>\n      <td>mobile</td>\n      <td>NaN</td>\n      <td>3816090|59049|942643|3152072|6621092|76950|604...</td>\n      <td>59|52|78|70|63|53|112|63|44|87|113|69|62|104|5...</td>\n      <td>1</td>\n      <td>60705</td>\n    </tr>\n    <tr>\n      <th>993</th>\n      <td>1QF3QZ74IK8B</td>\n      <td>959b2ce0b84a9</td>\n      <td>1541101041</td>\n      <td>1</td>\n      <td>search for destination</td>\n      <td>Toronto, Canada</td>\n      <td>CA</td>\n      <td>Toronto, Canada</td>\n      <td>desktop</td>\n      <td>NaN</td>\n      <td>NaN</td>\n      <td>NaN</td>\n      <td>0</td>\n      <td>NaN</td>\n    </tr>\n    <tr>\n      <th>994</th>\n      <td>1QF3QZ74IK8B</td>\n      <td>959b2ce0b84a9</td>\n      <td>1541101104</td>\n      <td>2</td>\n      <td>interaction item image</td>\n      <td>44351</td>\n      <td>CA</td>\n      <td>Toronto, Canada</td>\n      <td>desktop</td>\n      <td>NaN</td>\n      <td>NaN</td>\n      <td>NaN</td>\n      <td>0</td>\n      <td>NaN</td>\n    </tr>\n    <tr>\n      <th>995</th>\n      <td>1QF3QZ74IK8B</td>\n      <td>959b2ce0b84a9</td>\n      <td>1541101104</td>\n      <td>3</td>\n      <td>interaction item image</td>\n      <td>44351</td>\n      <td>CA</td>\n      <td>Toronto, Canada</td>\n      <td>desktop</td>\n      <td>NaN</td>\n      <td>NaN</td>\n      <td>NaN</td>\n      <td>0</td>\n      <td>NaN</td>\n    </tr>\n    <tr>\n      <th>996</th>\n      <td>1QF3QZ74IK8B</td>\n      <td>959b2ce0b84a9</td>\n      <td>1541101114</td>\n      <td>4</td>\n      <td>interaction item info</td>\n      <td>44351</td>\n      <td>CA</td>\n      <td>Toronto, Canada</td>\n      <td>desktop</td>\n      <td>NaN</td>\n      <td>NaN</td>\n      <td>NaN</td>\n      <td>0</td>\n      <td>NaN</td>\n    </tr>\n    <tr>\n      <th>997</th>\n      <td>1QF3QZ74IK8B</td>\n      <td>959b2ce0b84a9</td>\n      <td>1541101134</td>\n      <td>5</td>\n      <td>interaction item rating</td>\n      <td>44351</td>\n      <td>CA</td>\n      <td>Toronto, Canada</td>\n      <td>desktop</td>\n      <td>NaN</td>\n      <td>NaN</td>\n      <td>NaN</td>\n      <td>0</td>\n      <td>NaN</td>\n    </tr>\n    <tr>\n      <th>998</th>\n      <td>1QF3QZ74IK8B</td>\n      <td>959b2ce0b84a9</td>\n      <td>1541101134</td>\n      <td>6</td>\n      <td>interaction item deals</td>\n      <td>44351</td>\n      <td>CA</td>\n      <td>Toronto, Canada</td>\n      <td>desktop</td>\n      <td>NaN</td>\n      <td>NaN</td>\n      <td>NaN</td>\n      <td>0</td>\n      <td>NaN</td>\n    </tr>\n    <tr>\n      <th>999</th>\n      <td>1QF3QZ74IK8B</td>\n      <td>959b2ce0b84a9</td>\n      <td>1541101144</td>\n      <td>7</td>\n      <td>interaction item image</td>\n      <td>44351</td>\n      <td>CA</td>\n      <td>Toronto, Canada</td>\n      <td>desktop</td>\n      <td>NaN</td>\n      <td>NaN</td>\n      <td>NaN</td>\n      <td>0</td>\n      <td>NaN</td>\n    </tr>\n  </tbody>\n</table>\n<p>1000 rows × 14 columns</p>\n</div>",
      "text/plain": "tem image   \n3    00RL8Z82B2Z1  aff3928535f48  1541037532     4   interaction item image   \n4    00RL8Z82B2Z1  aff3928535f48  1541037532     5   interaction item image   \n5    00RL8Z82B2Z1  aff3928535f48  1541037532     6   interaction item image   \n6    00RL8Z82B2Z1  aff3928535f48  1541037532     7   interaction item image   \n7    00RL8Z82B2Z1  aff3928535f48  1541037532     8   interaction item image   \n8    00RL8Z82B2Z1  aff3928535f48  1541037542     9   interaction item image   \n9    00RL8Z82B2Z1  aff3928535f48  1541037542    10   interaction item image   \n10   00RL8Z82B2Z1  aff3928535f48  1541037542    11   interaction item image   \n11   00RL8Z82B2Z1  aff3928535f48  1541037542    12   interaction item image   \n12   00RL8Z82B2Z1  aff3928535f48  1541037542    13   interaction item image   \n13   00RL8Z82B2Z1  aff3928535f48  1541037543    14            clickout item   \n14   00RL8Z82B2Z1  aff3928535f48  1541038469    15           search for poi   \n15   00RL8Z82B2Z1  aff3928535f48  1541038485    16            clickout item   \n16   02HGRBA06ODU  fa3a53156ae5c  1541030832     1    interaction item info   \n17   02HGRBA06ODU  fa3a53156ae5c  1541030843     2   interaction item image   \n18   02HGRBA06ODU  fa3a53156ae5c  1541030843     3   interaction item image   \n19   02HGRBA06ODU  fa3a53156ae5c  1541030852     4    interaction item info   \n20   02HGRBA06ODU  fa3a53156ae5c  1541030867     5    interaction item info   \n21   02HGRBA06ODU  fa3a53156ae5c  1541030877     6   interaction item image   \n22   02HGRBA06ODU  fa3a53156ae5c  1541030877     7   interaction item image   \n23   02HGRBA06ODU  fa3a53156ae5c  1541030887     8   interaction item image   \n24   02HGRBA06ODU  fa3a53156ae5c  1541030887     9   interaction item image   \n25   02HGRBA06ODU  fa3a53156ae5c  1541030887    10   interaction item image   \n26   02HGRBA06ODU  fa3a53156ae5c  1541030897    11   interaction item image   \n27   02HGRBA06ODU  fa3a53156ae5c  1541030897    12   interaction item image   \n28   02HGRBA06ODU  fa3a53156ae5c  1541030897    13   interaction item image   \n29   02HGRBA06ODU  fa3a53156ae5c  1541030897    14   interaction item image   \n..            ...            ...         ...   ...                      ...   \n970  1KTPEDQB89UY  649458cf7bc3e  1541071792    43   interaction item image   \n971  1KTPEDQB89UY  649458cf7bc3e  1541071873    44            clickout item   \n972  1MYZFNQNA1JL  73c99d2cd8728  1541107510     1          search for item   \n973  1MYZFNQNA1JL  73c99d2cd8728  1541107524     2            clickout item   \n974  1NRDBHYY4Q23  54694f389f9bb  1541085367     1   interaction item image   \n975  1NRDBHYY4Q23  54694f389f9bb  1541085367     2   interaction item image   \n976  1NRDBHYY4Q23  54694f389f9bb  1541085367     3   interaction item image   \n977  1NRDBHYY4Q23  54694f389f9bb  1541085367     4   interaction item image   \n978  1NRDBHYY4Q23  54694f389f9bb  1541085367     5   interaction item image   \n979  1NRDBHYY4Q23  54694f389f9bb  1541085367     6   interaction item image   \n980  1NRDBHYY4Q23  54694f389f9bb  1541085367     7   interaction item image   \n981  1NRDBHYY4Q23  54694f389f9bb  1541085367     8   interaction item image   \n982  1NRDBHYY4Q23  54694f389f9bb  1541085367     9   interaction item image   \n983  1NRDBHYY4Q23  54694f389f9bb  1541085384    10   interaction item image   \n984  1NRDBHYY4Q23  54694f389f9bb  1541085397    11   interaction item image   \n985  1NRDBHYY4Q23  54694f389f9bb  1541085397    12   interaction item image   \n986  1NRDBHYY4Q23  54694f389f9bb  1541085397    13   interaction item image   \n987  1NRDBHYY4Q23  54694f389f9bb  1541085397    14   interaction item image   \n988  1NRDBHYY4Q23  54694f389f9bb  1541085397    15   interaction item image   \n989  1NRDBHYY4Q23  54694f389f9bb  1541085415    16            clickout item   \n990  1PFOT2YWS146  862043530adde  1541093637     1            clickout item   \n991  1PFOT2YWS146  862043530adde  1541094073     2    interaction item info   \n992  1PFOT2YWS146  862043530adde  1541094079     3            clickout item   \n993  1QF3QZ74IK8B  959b2ce0b84a9  1541101041     1   search for destination   \n994  1QF3QZ74IK8B  959b2ce0b84a9  1541101104     2   interaction item image   \n995  1QF3QZ74IK8B  959b2ce0b84a9  1541101104     3   interaction item image   \n996  1QF3QZ74IK8B  959b2ce0b84a9  1541101114     4    interaction item info   \n997  1QF3QZ74IK8B  959b2ce0b84a9  1541101134     5  interaction item rating   \n998  1QF3QZ74IK8B  959b2ce0b84a9  1541101134     6   interaction item deals   \n999  1QF3QZ74IK8B  959b2ce0b84a9  1541101144     7   interaction item image   \n\n           reference platform                       city   device  \\\n0            Newtown       AU          Sydney, Australia   mobile   \n1             666856       AU          Sydney, Australia   mobile   \n2             666856       AU          Sydney, Australia   mobile   \n3             666856       AU          Sydney, Australia   mobile   \n4             109038       AU          Sydney, Australia   mobile   \n5             666856       AU          Sydney, Australia   mobile   \n6             109038       AU          Sydney, Australia   mobile   \n7             666856       AU          Sydney, Australia   mobile   \n8             109038       AU          Sydney, Australia   mobile   \n9             109038       AU          Sydney, Australia   mobile   \n10            109038       AU          Sydney, Australia   mobile   \n11            109038       AU          Sydney, Australia   mobile   \n12            109038       AU          Sydney, Australia   mobile   \n13            109038       AU          Sydney, Australia   mobile   \n14       Surry Hills       AU          Sydney, Australia   mobile   \n15           1257342       AU          Sydney, Australia   mobile   \n16           3377332       BR            Ubatuba, Brazil   mobile   \n17           3377332       BR            Ubatuba, Brazil   mobile   \n18           3377332       BR            Ubatuba, Brazil   mobile   \n19           3377332       BR            Ubatuba, Brazil   mobile   \n20           3066244       BR            Ubatuba, Brazil   mobile   \n21           3066244       BR            Ubatuba, Brazil   mobile   \n22           3066244       BR            Ubatuba, Brazil   mobile   \n23           3066244       BR            Ubatuba, Brazil   mobile   \n24           3066244       BR            Ubatuba, Brazil   mobile   \n25           3066244       BR            Ubatuba, Brazil   mobile   \n26           3066244       BR            Ubatuba, Brazil   mobile   \n27           3066244       BR            Ubatuba, Brazil   mobile   \n28           3066244       BR            Ubatuba, Brazil   mobile   \n29           3066244       BR            Ubatuba, Brazil   mobile   \n..               ...      ...                        ...      ...   \n970          2679006       TH       Phetchabun, Thailand   mobile   \n971          2295618       TH       Phetchabun, Thailand   mobile   \n972          3953294       UK  Liverpool, United Kingdom  desktop   \n973          3953294       UK  Liverpool, United Kingdom  desktop   \n974           519156       MY            Kijal, Malaysia   mobile   \n975           519156       MY            Kijal, Malaysia   mobile   \n976           519156       MY            Kijal, Malaysia   mobile   \n977           519156       MY            Kijal, Malaysia   mobile   \n978           519156       MY            Kijal, Malaysia   mobile   \n979           519156       MY            Kijal, Malaysia   mobile   \n980           519156       MY            Kijal, Malaysia   mobile   \n981           519156       MY            Kijal, Malaysia   mobile   \n982           519156       MY            Kijal, Malaysia   mobile   \n983           519156       MY            Kijal, Malaysia   mobile   \n984           519156       MY            Kijal, Malaysia   mobile   \n985           519156       MY            Kijal, Malaysia   mobile   \n986           519156       MY            Kijal, Malaysia   mobile   \n987           519156       MY            Kijal, Malaysia   mobile   \n988           519156       MY            Kijal, Malaysia   mobile   \n989           519156       MY            Kijal, Malaysia   mobile   \n990            78420       US                  Erie, USA   mobile   \n991            60705       US                  Erie, USA   mobile   \n992            60705       US                  Erie, USA   mobile   \n993  Toronto, Canada       CA            Toronto, Canada  desktop   \n994            44351       CA            Toronto, Canada  desktop   \n995            44351       CA            Toronto, Canada  desktop   \n996            44351       CA            Toronto, Canada  desktop   \n997            44351       CA            Toronto, Canada  desktop   \n998            44351       CA            Toronto, Canada  desktop   \n999            44351       CA            Toronto, Canada  desktop   \n\n    current_filters                                        impressions  \\\n0               NaN                                                NaN   \n1               NaN                                                NaN   \n2               NaN                                                NaN   \n3               NaN                                                NaN   \n4               NaN                                                NaN   \n5               NaN                                                NaN   \n6               NaN                                                NaN   \n7               NaN                                                NaN   \n8               NaN                                                NaN   \n9               NaN                                                NaN   \n10              NaN                                                NaN   \n11              NaN                                                NaN   \n12              NaN                                                NaN   \n13              NaN  3400638|1253714|3367857|5100540|1088584|666916...   \n14              NaN                                                NaN   \n15              NaN  55109|129343|54824|2297972|109014|1257342|1031...   \n16              NaN                                                NaN   \n17              NaN                                                NaN   \n18              NaN                                                NaN   \n19              NaN                                                NaN   \n20              NaN                                                NaN   \n21              NaN                                                NaN   \n22              NaN                                                NaN   \n23              NaN                                                NaN   \n24              NaN                                                NaN   \n25              NaN                                                NaN   \n26              NaN                                                NaN   \n27              NaN                                                NaN   \n28              NaN                                                NaN   \n29              NaN                                                NaN   \n..              ...                                                ...   \n970             NaN                                                NaN   \n971             NaN  4783716|134412|2677282|2635106|3371467|2266848...   \n972             NaN                                                NaN   \n973             NaN  3953294|12618|2530750|3842698|18904|706646|106...   \n974             NaN                                                NaN   \n975             NaN                                                NaN   \n976             NaN                                                NaN   \n977             NaN                                                NaN   \n978             NaN                                                NaN   \n979             NaN                                                NaN   \n980             NaN                                                NaN   \n981             NaN                                                NaN   \n982             NaN                                                NaN   \n983             NaN                                                NaN   \n984             NaN                                                NaN   \n985             NaN                                                NaN   \n986             NaN                                                NaN   \n987             NaN                                                NaN   \n988             NaN                                                NaN   \n989             NaN  519156|3804628|5091040|3228742|6807498|5155718...   \n990             NaN  3816090|59049|942643|3152072|76950|6621092|604...   \n991             NaN                                                NaN   \n992             NaN  3816090|59049|942643|3152072|6621092|76950|604...   \n993             NaN                                                NaN   \n994             NaN                                                NaN   \n995             NaN                                                NaN   \n996             NaN                                                NaN   \n997             NaN                                                NaN   \n998             NaN                                                NaN   \n999             NaN                                                NaN   \n\n                                                prices  last_session_click  \\\n0                                                  NaN                   0   \n1                                                  NaN                   0   \n2                                                  NaN                   0   \n3                                                  NaN                   0   \n4                                                  NaN                   0   \n5                                                  NaN                   0   \n6                                                  NaN                   0   \n7                                                  NaN                   0   \n8                                                  NaN                   0   \n9                                                  NaN                   0   \n10                                                 NaN                   0   \n11                                                 NaN                   0   \n12                                                 NaN                   0   \n13   95|66|501|112|95|100|101|72|82|56|56|143|70|25...                   0   \n14                                                 NaN                   0   \n15   162|25|150|143|101|49|118|131|18|100|101|143|5...                   1   \n16                                                 NaN                   0   \n17                                                 NaN                   0   \n18                                                 NaN                   0   \n19                                                 NaN                   0   \n20                                                 NaN                   0   \n21                                                 NaN                   0   \n22                                                 NaN                   0   \n23                                                 NaN                   0   \n24                                                 NaN                   0   \n25                                                 NaN                   0   \n26                                                 NaN                   0   \n27                                                 NaN                   0   \n28                                                 NaN                   0   \n29                                                 NaN                   0   \n..                                                 ...                 ...   \n970                                                NaN                   0   \n971  16|51|24|142|93|59|23|37|79|33|11|40|36|34|21|...                   1   \n972                                                NaN                   0   \n973  299|232|170|237|193|262|163|180|276|251|170|26...                   1   \n974                                                NaN                   0   \n975                                                NaN                   0   \n976                                                NaN                   0   \n977                                                NaN                   0   \n978                                                NaN                   0   \n979                                                NaN                   0   \n980                                                NaN                   0   \n981                                                NaN                   0   \n982                                                NaN                   0   \n983                                                NaN                   0   \n984                                                NaN                   0   \n985                                                NaN                   0   \n986                                                NaN                   0   \n987                                                NaN                   0   \n988                                                NaN                   0   \n989                     67|18|18|23|26|20|22|15|11|130                   1   \n990  59|52|78|70|53|63|146|44|63|87|113|69|62|104|1...                   0   \n991                                                NaN                   0   \n992  59|52|78|70|63|53|112|63|44|87|113|69|62|104|5...                   1   \n993                                                NaN                   0   \n994                                                NaN                   0   \n995                                                NaN                   0   \n996                                                NaN                   0   \n997                                                NaN                   0   \n998                                                NaN                   0   \n999                                                NaN                   0   \n\n    last_item_interacted  \n0                    NaN  \n1                    NaN  \n2                    NaN  \n3                    NaN  \n4                    NaN  \n5                    NaN  \n6                    NaN  \n7                    NaN  \n8                    NaN  \n9                    NaN  \n10                   NaN  \n11                   NaN  \n12                   NaN  \n13                   NaN  \n14                   NaN  \n15           Surry Hills  \n16                   NaN  \n17                   NaN  \n18                   NaN  \n19                   NaN  \n20                   NaN  \n21                   NaN  \n22                   NaN  \n23                   NaN  \n24                   NaN  \n25                   NaN  \n26                   NaN  \n27                   NaN  \n28                   NaN  \n29                   NaN  \n..                   ...  \n970                  NaN  \n971              2679006  \n972                  NaN  \n973              3953294  \n974                  NaN  \n975                  NaN  \n976                  NaN  \n977                  NaN  \n978                  NaN  \n979                  NaN  \n980                  NaN  \n981                  NaN  \n982                  NaN  \n983                  NaN  \n984                  NaN  \n985                  NaN  \n986                  NaN  \n987                  NaN  \n988                  NaN  \n989               519156  \n990                  NaN  \n991                  NaN  \n992                60705  \n993                  NaN  \n994                  NaN  \n995                  NaN  \n996                  NaN  \n997                  NaN  \n998                  NaN  \n999                  NaN  \n\n[1000 rows x 14 columns]"
     },
     "execution_count": 16,
     "metadata": {},
     "output_type": "execute_result"
    }
   ],
   "source": [
    "train_exercise.head(1000)"
   ]
  },
  {
   "cell_type": "markdown",
   "execution_count": null,
   "metadata": {},
   "outputs": [],
   "source": [
    "### start of formula"
   ]
  },
  {
   "cell_type": "code",
   "execution_count": 9,
   "metadata": {},
   "outputs": [],
   "source": [
    "test = pd.read_csv(\"~/Documents/Tesi/trivagoRecSysChallengeData2019_v2/test_new.csv\")"
   ]
  },
  {
   "cell_type": "code",
   "execution_count": 10,
   "metadata": {},
   "outputs": [],
   "source": [
    "test['last_session_click'] = test.groupby(['user_id','session_id'])['step'].transform(lambda x: x == x.iloc[-1]).astype(int)\n",
    "test['last_item_interacted'] = test.loc[test['last_session_click'].shift(-1)==1, 'reference']\n",
    "test['last_item_interacted'] = test['last_item_interacted'].shift()\n"
   ]
  },
  {
   "cell_type": "code",
   "execution_count": 11,
   "metadata": {},
   "outputs": [],
   "source": [
    "test_with_last_interact = test"
   ]
  },
  {
   "cell_type": "code",
   "execution_count": 14,
   "metadata": {},
   "outputs": [],
   "source": [
    "df_target_price = get_submission_target(test)"
   ]
  },
  {
   "cell_type": "code",
   "execution_count": 17,
   "metadata": {},
   "outputs": [],
   "source": [
    "df_explode_price = explode_item_price(df_target_price, 'impressions','prices')\n",
    "df_explode_price.impressions = df_explode_price.impressions.astype(str)"
   ]
  },
  {
   "cell_type": "code",
   "execution_count": 18,
   "metadata": {},
   "outputs": [
    {
     "data": {
      "text/html": "<div>\n<style scoped>\n    .dataframe tbody tr th:only-of-type {\n        vertical-align: middle;\n    }\n\n    .dataframe tbody tr th {\n        vertical-align: top;\n    }\n\n    .dataframe thead th {\n        text-align: right;\n    }\n</style>\n<table border=\"1\" class=\"dataframe\">\n  <thead>\n    <tr style=\"text-align: right;\">\n      <th></th>\n      <th>user_id</th>\n      <th>session_id</th>\n      <th>timestamp</th>\n      <th>step</th>\n      <th>action_type</th>\n      <th>reference</th>\n      <th>platform</th>\n      <th>city</th>\n      <th>device</th>\n      <th>current_filters</th>\n      <th>last_session_click</th>\n      <th>last_item_interacted</th>\n      <th>impressions</th>\n      <th>prices</th>\n      <th>last_interacted_flag</th>\n    </tr>\n  </thead>\n  <tbody>\n    <tr>\n      <th>0</th>\n      <td>004A07DM0IDW</td>\n      <td>1d688ec168932</td>\n      <td>1541555799</td>\n      <td>7</td>\n      <td>clickout item</td>\n      <td>NaN</td>\n      <td>CO</td>\n      <td>Santa Marta, Colombia</td>\n      <td>mobile</td>\n      <td>NaN</td>\n      <td>1</td>\n      <td>3241426</td>\n      <td>2059240</td>\n      <td>70</td>\n      <td>1.0</td>\n    </tr>\n    <tr>\n      <th>1</th>\n      <td>004A07DM0IDW</td>\n      <td>1d688ec168932</td>\n      <td>1541555799</td>\n      <td>7</td>\n      <td>clickout item</td>\n      <td>NaN</td>\n      <td>CO</td>\n      <td>Santa Marta, Colombia</td>\n      <td>mobile</td>\n      <td>NaN</td>\n      <td>1</td>\n      <td>3241426</td>\n      <td>2033381</td>\n      <td>46</td>\n      <td>1.0</td>\n    </tr>\n    <tr>\n      <th>2</th>\n      <td>004A07DM0IDW</td>\n      <td>1d688ec168932</td>\n      <td>1541555799</td>\n      <td>7</td>\n      <td>clickout item</td>\n      <td>NaN</td>\n      <td>CO</td>\n      <td>Santa Marta, Colombia</td>\n      <td>mobile</td>\n      <td>NaN</td>\n      <td>1</td>\n      <td>3241426</td>\n      <td>1724779</td>\n      <td>48</td>\n      <td>1.0</td>\n    </tr>\n    <tr>\n      <th>3</th>\n      <td>004A07DM0IDW</td>\n      <td>1d688ec168932</td>\n      <td>1541555799</td>\n      <td>7</td>\n      <td>clickout item</td>\n      <td>NaN</td>\n      <td>CO</td>\n      <td>Santa Marta, Colombia</td>\n      <td>mobile</td>\n      <td>NaN</td>\n      <td>1</td>\n      <td>3241426</td>\n      <td>127131</td>\n      <td>76</td>\n      <td>1.0</td>\n    </tr>\n    <tr>\n      <th>4</th>\n      <td>004A07DM0IDW</td>\n      <td>1d688ec168932</td>\n      <td>1541555799</td>\n      <td>7</td>\n      <td>clickout item</td>\n      <td>NaN</td>\n      <td>CO</td>\n      <td>Santa Marta, Colombia</td>\n      <td>mobile</td>\n      <td>NaN</td>\n      <td>1</td>\n      <td>3241426</td>\n      <td>399441</td>\n      <td>65</td>\n      <td>1.0</td>\n    </tr>\n  </tbody>\n</table>\n</div>",
      "text/plain": "        user_id     session_id   timestamp  step    action_type reference  \\\n0  004A07DM0IDW  1d688ec168932  1541555799     7  clickout item       NaN   \n1  004A07DM0IDW  1d688ec168932  1541555799     7  clickout item       NaN   \n2  004A07DM0IDW  1d688ec168932  1541555799     7  clickout item       NaN   \n3  004A07DM0IDW  1d688ec168932  1541555799     7  clickout item       NaN   \n4  004A07DM0IDW  1d688ec168932  1541555799     7  clickout item       NaN   \n\n  platform                   city  device current_filters  last_session_click  \\\n0       CO  Santa Marta, Colombia  mobile             NaN                   1   \n1       CO  Santa Marta, Colombia  mobile             NaN                   1   \n2       CO  Santa Marta, Colombia  mobile             NaN                   1   \n3       CO  Santa Marta, Colombia  mobile             NaN                   1   \n4       CO  Santa Marta, Colombia  mobile             NaN                   1   \n\n  last_item_interacted impressions  prices  last_interacted_flag  \n0              3241426     2059240      70                   1.0  \n1              3241426     2033381      46                   1.0  \n2              3241426     1724779      48                   1.0  \n3              3241426      127131      76                   1.0  \n4              3241426      399441      65                   1.0  "
     },
     "execution_count": 18,
     "metadata": {},
     "output_type": "execute_result"
    }
   ],
   "source": [
    "df_explode_price['last_interacted_flag'] = np.where(df_explode_price['last_item_interacted'] == df_explode_price['impressions'], 0.3, 1)\n",
    "df_explode_price.head()"
   ]
  },
  {
   "cell_type": "code",
   "execution_count": 19,
   "metadata": {},
   "outputs": [],
   "source": [
    "df_explode_price[\"POS\"] = (\n",
    "    df_explode_price\n",
    "    .groupby(['user_id','session_id','timestamp','step'])\n",
    "    .cumcount()\n",
    ")"
   ]
  },
  {
   "cell_type": "code",
   "execution_count": 20,
   "metadata": {},
   "outputs": [],
   "source": [
    "df_explode_price = (\n",
    "    df_explode_price\n",
    "    .assign(position = df_explode_price.POS + 1)\n",
    ")"
   ]
  },
  {
   "cell_type": "code",
   "execution_count": 25,
   "metadata": {},
   "outputs": [],
   "source": [
    "df_explode_price['price_mean'] = (\n",
    "    df_explode_price\n",
    "    .groupby(GR_COLS)['prices']\n",
    "    .transform('mean')\n",
    ")"
   ]
  },
  {
   "cell_type": "code",
   "execution_count": 26,
   "metadata": {},
   "outputs": [],
   "source": [
    "df_explode_price = (\n",
    "    df_explode_price\n",
    "    .assign(log_position = np.log(df_explode_price.position))\n",
    ")"
   ]
  },
  {
   "cell_type": "code",
   "execution_count": 27,
   "metadata": {},
   "outputs": [],
   "source": [
    "df_explode_price = (\n",
    "    df_explode_price\n",
    "    .assign(price_ratio = df_explode_price.prices / df_explode_price.price_mean)\n",
    ")"
   ]
  },
  {
   "cell_type": "code",
   "execution_count": 28,
   "metadata": {},
   "outputs": [],
   "source": [
    "df_explode_price = (\n",
    "    df_explode_price\n",
    "    .assign(formula_3 = df_explode_price.log_position * df_explode_price.price_ratio * df_explode_price.last_interacted_flag)\n",
    ")"
   ]
  },
  {
   "cell_type": "code",
   "execution_count": 29,
   "metadata": {},
   "outputs": [
    {
     "data": {
      "text/html": "<div>\n<style scoped>\n    .dataframe tbody tr th:only-of-type {\n        vertical-align: middle;\n    }\n\n    .dataframe tbody tr th {\n        vertical-align: top;\n    }\n\n    .dataframe thead th {\n        text-align: right;\n    }\n</style>\n<table border=\"1\" class=\"dataframe\">\n  <thead>\n    <tr style=\"text-align: right;\">\n      <th></th>\n      <th>user_id</th>\n      <th>session_id</th>\n      <th>timestamp</th>\n      <th>step</th>\n      <th>action_type</th>\n      <th>reference</th>\n      <th>platform</th>\n      <th>city</th>\n      <th>device</th>\n      <th>current_filters</th>\n      <th>...</th>\n      <th>last_item_interacted</th>\n      <th>impressions</th>\n      <th>prices</th>\n      <th>last_interacted_flag</th>\n      <th>POS</th>\n      <th>position</th>\n      <th>log_position</th>\n      <th>price_mean</th>\n      <th>price_ratio</th>\n      <th>formula_3</th>\n    </tr>\n  </thead>\n  <tbody>\n    <tr>\n      <th>0</th>\n      <td>004A07DM0IDW</td>\n      <td>1d688ec168932</td>\n      <td>1541555799</td>\n      <td>7</td>\n      <td>clickout item</td>\n      <td>NaN</td>\n      <td>CO</td>\n      <td>Santa Marta, Colombia</td>\n      <td>mobile</td>\n      <td>NaN</td>\n      <td>...</td>\n      <td>3241426</td>\n      <td>2059240</td>\n      <td>70</td>\n      <td>1.0</td>\n      <td>0</td>\n      <td>1</td>\n      <td>0.000000</td>\n      <td>62.6</td>\n      <td>1.118211</td>\n      <td>0.000000</td>\n    </tr>\n    <tr>\n      <th>1</th>\n      <td>004A07DM0IDW</td>\n      <td>1d688ec168932</td>\n      <td>1541555799</td>\n      <td>7</td>\n      <td>clickout item</td>\n      <td>NaN</td>\n      <td>CO</td>\n      <td>Santa Marta, Colombia</td>\n      <td>mobile</td>\n      <td>NaN</td>\n      <td>...</td>\n      <td>3241426</td>\n      <td>2033381</td>\n      <td>46</td>\n      <td>1.0</td>\n      <td>1</td>\n      <td>2</td>\n      <td>0.693147</td>\n      <td>62.6</td>\n      <td>0.734824</td>\n      <td>0.509341</td>\n    </tr>\n    <tr>\n      <th>2</th>\n      <td>004A07DM0IDW</td>\n      <td>1d688ec168932</td>\n      <td>1541555799</td>\n      <td>7</td>\n      <td>clickout item</td>\n      <td>NaN</td>\n      <td>CO</td>\n      <td>Santa Marta, Colombia</td>\n      <td>mobile</td>\n      <td>NaN</td>\n      <td>...</td>\n      <td>3241426</td>\n      <td>1724779</td>\n      <td>48</td>\n      <td>1.0</td>\n      <td>2</td>\n      <td>3</td>\n      <td>1.098612</td>\n      <td>62.6</td>\n      <td>0.766773</td>\n      <td>0.842386</td>\n    </tr>\n    <tr>\n      <th>3</th>\n      <td>004A07DM0IDW</td>\n      <td>1d688ec168932</td>\n      <td>1541555799</td>\n      <td>7</td>\n      <td>clickout item</td>\n      <td>NaN</td>\n      <td>CO</td>\n      <td>Santa Marta, Colombia</td>\n      <td>mobile</td>\n      <td>NaN</td>\n      <td>...</td>\n      <td>3241426</td>\n      <td>127131</td>\n      <td>76</td>\n      <td>1.0</td>\n      <td>3</td>\n      <td>4</td>\n      <td>1.386294</td>\n      <td>62.6</td>\n      <td>1.214058</td>\n      <td>1.683041</td>\n    </tr>\n    <tr>\n      <th>4</th>\n      <td>004A07DM0IDW</td>\n      <td>1d688ec168932</td>\n      <td>1541555799</td>\n      <td>7</td>\n      <td>clickout item</td>\n      <td>NaN</td>\n      <td>CO</td>\n      <td>Santa Marta, Colombia</td>\n      <td>mobile</td>\n      <td>NaN</td>\n      <td>...</td>\n      <td>3241426</td>\n      <td>399441</td>\n      <td>65</td>\n      <td>1.0</td>\n      <td>4</td>\n      <td>5</td>\n      <td>1.609438</td>\n      <td>62.6</td>\n      <td>1.038339</td>\n      <td>1.671142</td>\n    </tr>\n  </tbody>\n</table>\n<p>5 rows × 21 columns</p>\n</div>",
      "text/plain": "        user_id     session_id   timestamp  step    action_type reference  \\\n0  004A07DM0IDW  1d688ec168932  1541555799     7  clickout item       NaN   \n1  004A07DM0IDW  1d688ec168932  1541555799     7  clickout item       NaN   \n2  004A07DM0IDW  1d688ec168932  1541555799     7  clickout item       NaN   \n3  004A07DM0IDW  1d688ec168932  1541555799     7  clickout item       NaN   \n4  004A07DM0IDW  1d688ec168932  1541555799     7  clickout item       NaN   \n\n  platform                   city  device current_filters  ...  \\\n0       CO  Santa Marta, Colombia  mobile             NaN  ...   \n1       CO  Santa Marta, Colombia  mobile             NaN  ...   \n2       CO  Santa Marta, Colombia  mobile             NaN  ...   \n3       CO  Santa Marta, Colombia  mobile             NaN  ...   \n4       CO  Santa Marta, Colombia  mobile             NaN  ...   \n\n   last_item_interacted impressions prices  last_interacted_flag  POS  \\\n0               3241426     2059240     70                   1.0    0   \n1               3241426     2033381     46                   1.0    1   \n2               3241426     1724779     48                   1.0    2   \n3               3241426      127131     76                   1.0    3   \n4               3241426      399441     65                   1.0    4   \n\n   position  log_position  price_mean  price_ratio  formula_3  \n0         1      0.000000        62.6     1.118211   0.000000  \n1         2      0.693147        62.6     0.734824   0.509341  \n2         3      1.098612        62.6     0.766773   0.842386  \n3         4      1.386294        62.6     1.214058   1.683041  \n4         5      1.609438        62.6     1.038339   1.671142  \n\n[5 rows x 21 columns]"
     },
     "execution_count": 29,
     "metadata": {},
     "output_type": "execute_result"
    }
   ],
   "source": [
    "df_explode_price.head()"
   ]
  },
  {
   "cell_type": "code",
   "execution_count": 33,
   "metadata": {},
   "outputs": [],
   "source": [
    "# takes a lot of time\n",
    "df_expl_price = (\n",
    "    df_explode_price\n",
    "    .groupby(['user_id','session_id','timestamp','step'])\n",
    "    .apply(lambda x: x.sort_values(['formula_3','POS']))\n",
    "    .reset_index(drop=True)\n",
    ")\n",
    "# takes a lot of time"
   ]
  },
  {
   "cell_type": "code",
   "execution_count": 34,
   "metadata": {},
   "outputs": [],
   "source": [
    "df_expl_price = df_expl_price[GR_COLS + [\"impressions\"]]\n"
   ]
  },
  {
   "cell_type": "code",
   "execution_count": 35,
   "metadata": {},
   "outputs": [],
   "source": [
    "df_out1 = df_expl_price.assign(impressions=lambda x: x[\"impressions\"].apply(str))\n"
   ]
  },
  {
   "cell_type": "code",
   "execution_count": 38,
   "metadata": {},
   "outputs": [],
   "source": [
    "df_out = group_concat(df_out1, GR_COLS, 'impressions')\n"
   ]
  },
  {
   "cell_type": "code",
   "execution_count": 39,
   "metadata": {},
   "outputs": [
    {
     "data": {
      "text/html": "<div>\n<style scoped>\n    .dataframe tbody tr th:only-of-type {\n        vertical-align: middle;\n    }\n\n    .dataframe tbody tr th {\n        vertical-align: top;\n    }\n\n    .dataframe thead th {\n        text-align: right;\n    }\n</style>\n<table border=\"1\" class=\"dataframe\">\n  <thead>\n    <tr style=\"text-align: right;\">\n      <th></th>\n      <th>user_id</th>\n      <th>session_id</th>\n      <th>timestamp</th>\n      <th>step</th>\n      <th>item_recommendations</th>\n    </tr>\n  </thead>\n  <tbody>\n    <tr>\n      <th>0</th>\n      <td>000324D9BBUC</td>\n      <td>89643988fdbfb</td>\n      <td>1541593942</td>\n      <td>10</td>\n      <td>923407 1729121 1241375 1050792 97171 2182130 3...</td>\n    </tr>\n    <tr>\n      <th>1</th>\n      <td>0004Q49X39PY</td>\n      <td>9de47d9a66494</td>\n      <td>1541641157</td>\n      <td>1</td>\n      <td>2213014 3184842 2292254 3812004 8153310 320289...</td>\n    </tr>\n    <tr>\n      <th>2</th>\n      <td>0004Q49X39PY</td>\n      <td>beea5c27030cb</td>\n      <td>1541561202</td>\n      <td>1</td>\n      <td>3812004 3505150 2292254 3202894 4476010 710135...</td>\n    </tr>\n    <tr>\n      <th>3</th>\n      <td>00071784XQ6B</td>\n      <td>9617600e1ba7c</td>\n      <td>1541630328</td>\n      <td>2</td>\n      <td>22721 22854 16121 22819 3067559 22764 1478189 ...</td>\n    </tr>\n    <tr>\n      <th>4</th>\n      <td>0008BO33KUQ0</td>\n      <td>2d0e2102ee0dc</td>\n      <td>1541636411</td>\n      <td>6</td>\n      <td>507861 2176280 1669587 4272108 3133204 502066 ...</td>\n    </tr>\n    <tr>\n      <th>5</th>\n      <td>000GO9NY6P4M</td>\n      <td>55dbafdbb9bab</td>\n      <td>1541594662</td>\n      <td>2</td>\n      <td>157710 319866 1287958 160577 483691 1618677 40...</td>\n    </tr>\n    <tr>\n      <th>6</th>\n      <td>000IRHJS2DL9</td>\n      <td>f6ffffd20d43d</td>\n      <td>1541605541</td>\n      <td>12</td>\n      <td>102540 2285010 33191 20144 2547840 4481844 201...</td>\n    </tr>\n    <tr>\n      <th>7</th>\n      <td>000JB0UNEH23</td>\n      <td>7df07dc9fe26e</td>\n      <td>1541618174</td>\n      <td>1</td>\n      <td>2184212 2756867 4063406 9503248 3884098 290999...</td>\n    </tr>\n    <tr>\n      <th>8</th>\n      <td>000OWRCYEHKT</td>\n      <td>53e84da5c2dad</td>\n      <td>1541706095</td>\n      <td>3</td>\n      <td>5416250 7795438 3926654 8989706 6797450 722521...</td>\n    </tr>\n    <tr>\n      <th>9</th>\n      <td>000VBY1D6BP8</td>\n      <td>033fddaaa99af</td>\n      <td>1541587306</td>\n      <td>4</td>\n      <td>32256 32246 5411980 6865398 32230 5592656 3223...</td>\n    </tr>\n  </tbody>\n</table>\n</div>",
      "text/plain": "        user_id     session_id   timestamp  step  \\\n0  000324D9BBUC  89643988fdbfb  1541593942    10   \n1  0004Q49X39PY  9de47d9a66494  1541641157     1   \n2  0004Q49X39PY  beea5c27030cb  1541561202     1   \n3  00071784XQ6B  9617600e1ba7c  1541630328     2   \n4  0008BO33KUQ0  2d0e2102ee0dc  1541636411     6   \n5  000GO9NY6P4M  55dbafdbb9bab  1541594662     2   \n6  000IRHJS2DL9  f6ffffd20d43d  1541605541    12   \n7  000JB0UNEH23  7df07dc9fe26e  1541618174     1   \n8  000OWRCYEHKT  53e84da5c2dad  1541706095     3   \n9  000VBY1D6BP8  033fddaaa99af  1541587306     4   \n\n                                item_recommendations  \n0  923407 1729121 1241375 1050792 97171 2182130 3...  \n1  2213014 3184842 2292254 3812004 8153310 320289...  \n2  3812004 3505150 2292254 3202894 4476010 710135...  \n3  22721 22854 16121 22819 3067559 22764 1478189 ...  \n4  507861 2176280 1669587 4272108 3133204 502066 ...  \n5  157710 319866 1287958 160577 483691 1618677 40...  \n6  102540 2285010 33191 20144 2547840 4481844 201...  \n7  2184212 2756867 4063406 9503248 3884098 290999...  \n8  5416250 7795438 3926654 8989706 6797450 722521...  \n9  32256 32246 5411980 6865398 32230 5592656 3223...  "
     },
     "execution_count": 39,
     "metadata": {},
     "output_type": "execute_result"
    }
   ],
   "source": [
    "df_out.rename(columns={'impressions': 'item_recommendations'}, inplace=True)\n",
    "df_out[:10]"
   ]
  },
  {
   "cell_type": "code",
   "execution_count": null,
   "metadata": {},
   "outputs": [],
   "source": []
  },
  {
   "cell_type": "code",
   "execution_count": null,
   "metadata": {},
   "outputs": [],
   "source": []
  },
  {
   "cell_type": "code",
   "execution_count": null,
   "metadata": {},
   "outputs": [],
   "source": []
  },
  {
   "cell_type": "code",
   "execution_count": null,
   "metadata": {},
   "outputs": [],
   "source": []
  },
  {
   "cell_type": "code",
   "execution_count": 16,
   "metadata": {},
   "outputs": [],
   "source": [
    "def string_to_array(s):\n",
    "    \"\"\"Convert pipe separated string to array.\"\"\"\n",
    "\n",
    "    if isinstance(s, str):\n",
    "        out = s.split(\"|\")\n",
    "    elif math.isnan(s):\n",
    "        out = []\n",
    "    else:\n",
    "        raise ValueError(\"Value must be either string of nan\")\n",
    "    return out\n",
    "\n",
    "def explode_item_price(df_in, col_explode1, col_explode2):\n",
    "    \"\"\"Explode column col_expl of array type into multiple rows.\"\"\"\n",
    "\n",
    "    df = df_in.copy()\n",
    "    df.loc[:, col_explode1] = df[col_explode1].apply(string_to_array)\n",
    "    df.loc[:, col_explode2] = df[col_explode2].apply(string_to_array)    \n",
    "\n",
    "    df_out = pd.DataFrame(\n",
    "        {col: np.repeat(df[col].values,\n",
    "                        df[col_explode1].str.len())\n",
    "         for col in df.columns.drop([col_explode1,col_explode2])}\n",
    "    )\n",
    "\n",
    "    df_out.loc[:, col_explode1] = np.concatenate(df[col_explode1].values)\n",
    "    df_out.loc[:, col_explode2] = np.concatenate(df[col_explode2].values)  \n",
    "    \n",
    "    df_out.loc[:, col_explode1] = df_out[col_explode1].apply(int)\n",
    "    df_out.loc[:, col_explode2] = df_out[col_explode2].apply(int)\n",
    "\n",
    "    return df_out"
   ]
  },
  {
   "cell_type": "code",
   "execution_count": 13,
   "metadata": {},
   "outputs": [],
   "source": [
    "def get_submission_target(df):\n",
    "    \"\"\"Identify target rows with missing click outs.\"\"\"\n",
    "\n",
    "    mask = df[\"reference\"].isnull() & (df[\"action_type\"] == \"clickout item\")\n",
    "    df_out = df[mask]\n",
    "\n",
    "    return df_out"
   ]
  },
  {
   "cell_type": "code",
   "execution_count": 37,
   "metadata": {},
   "outputs": [],
   "source": [
    "def group_concat(df, gr_cols, col_concat):\n",
    "    \"\"\"Concatenate multiple rows into one.\"\"\"\n",
    "\n",
    "    df_out = (\n",
    "        df\n",
    "        .groupby(gr_cols)[col_concat]\n",
    "        .apply(lambda x: ' '.join(x))\n",
    "        .to_frame()\n",
    "        .reset_index()\n",
    "    )\n",
    "\n",
    "    return df_out"
   ]
  },
  {
   "cell_type": "code",
   "execution_count": null,
   "metadata": {},
   "outputs": [],
   "source": []
  }
 ]
}